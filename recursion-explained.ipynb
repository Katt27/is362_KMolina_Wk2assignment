# Recursion in Python

Recursion is a method of solving problems where the solution involves solving smaller instances of the same problem. It involves a function calling itself.

## Key Concepts of Recursion

- **Base Case**: The condition under which the recursion stops. This prevents the function from calling itself infinitely.
- **Recursive Case**: The part of the function where it calls itself to perform the same operation on a smaller problem.

Recursion is extensively used in algorithms involving nested data structures, complex problem-solving like sorting algorithms (Merge Sort, Quick Sort), and various mathematical problems.

# Example 1: Factorial Calculation Using Recursion

def factorial(n):
    """Calculate the factorial of a number using recursion."""
    if n == 1:
        return 1
    else:
        return n * factorial(n-1)

# Testing the factorial function
print(factorial(5))  # Output should be 120

## Visualizing Recursion with the Fibonacci Sequence

The Fibonacci sequence provides a clear example of how recursion can be visualized as each call makes two further calls until reaching the base case.

# Fibonacci Sequence Using Recursion

def fibonacci(n):
    """Return the nth Fibonacci number."""
    if n <= 1:
        return n
    else:
        return fibonacci(n-1) + fibonacci(n-2)

# Display the first 10 Fibonacci numbers using list comprehension
fib_sequence = [fibonacci(i) for i in range(10)]
print(fib_sequence)  # Output should be [0, 1, 1, 2, 3, 5, 8, 13, 21, 34]

              
## Handling Python's Recursion Limit

Python has a default recursion limit (usually 1000), which prevents infinite recursion from causing a stack overflow. However, you can adjust this limit.

import sys

# Increasing the recursion limit
sys.setrecursionlimit(1500)

# Example of a deeper recursion
def deep_recursion(n):
    if n == 0:
        return 0
    else:
        return deep_recursion(n-1) + 1

print(deep_recursion(1200))  # Test with a deeper stack

## Challenges and Considerations with Recursion

While recursion can simplify the code and make it more intuitive, it may also lead to high memory usage and inefficiency for problems that can be solved iteratively.

### Alternatives to Recursion:

- **Iterative Solutions**: Using loops to solve the problem without recursion.
- **Stack Data Structure**: Explicitly using a stack to simulate the call stack used in recursion.

Recursion is a powerful tool but should be used judiciously considering the problem at hand and the limitations of the system.


