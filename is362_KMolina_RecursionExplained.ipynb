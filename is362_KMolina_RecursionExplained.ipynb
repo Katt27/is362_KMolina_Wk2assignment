{
 "cells": [
  {
   "cell_type": "markdown",
   "id": "efaa3f04-d246-4eca-a4fd-818f669120d4",
   "metadata": {},
   "source": [
    "# Understanding Recursion in Python\n",
    "\n"
   ]
  },
  {
   "cell_type": "markdown",
   "id": "3e91cec0-e5d8-47de-bd64-fc70ab74875c",
   "metadata": {},
   "source": [
    "## Introduction\n",
    "Recursion is a technique in which a function calls itself. It's useful for problems that can be broken down \n",
    "into smaller, similar sub-problems. Let's explore how recursion works in Python.\n"
   ]
  },
  {
   "cell_type": "code",
   "execution_count": 10,
   "id": "caa27ad2-1fa1-4ff2-9bb4-ea4dd9c674e3",
   "metadata": {},
   "outputs": [
    {
     "name": "stdout",
     "output_type": "stream",
     "text": [
      "120\n"
     ]
    }
   ],
   "source": [
    "# Factorial using recursion\n",
    "def factorial(n):\n",
    "    # Base case: if n is 1, return 1\n",
    "    if n == 1:\n",
    "        return 1\n",
    "    # Recursive case: multiply n by the factorial of n-1\n",
    "    else:\n",
    "        return n * factorial(n - 1)\n",
    "\n",
    "# Test the function\n",
    "print(factorial(5))  # Output should be 120\n"
   ]
  },
  {
   "cell_type": "markdown",
   "id": "c5c203e7-c757-4a52-b4e8-346f750a04bb",
   "metadata": {},
   "source": [
    "## Visualizing the Recursion Tree\n",
    "\n",
    "Let's consider calculating `factorial(5)`:\n",
    "\n"
   ]
  },
  {
   "cell_type": "markdown",
   "id": "2b1cb8ff-0798-4e70-bd0f-efe9f4acc7c8",
   "metadata": {},
   "source": [
    "\n",
    "At each recursive step, the problem is simplified until it reaches the base case (`factorial(1) = 1`).\n"
   ]
  },
  {
   "cell_type": "code",
   "execution_count": 23,
   "id": "28357e56-78e7-444a-ae93-48f474034916",
   "metadata": {},
   "outputs": [
    {
     "name": "stdout",
     "output_type": "stream",
     "text": [
      "8\n"
     ]
    }
   ],
   "source": [
    "def fibonacci(n):\n",
    "    # Base cases\n",
    "    if n == 0:\n",
    "        return 0\n",
    "    elif n == 1:\n",
    "        return 1\n",
    "    # Recursive Case: sum of the two preceding Fibonacci numbers\n",
    "    else:\n",
    "        return fibonacci(n - 1) + fibonacci(n - 2)\n",
    "\n",
    "# Testing the function\n",
    "print(fibonacci(6))  # Output should be 8\n"
   ]
  },
  {
   "cell_type": "markdown",
   "id": "17f716ff-3d2c-4da2-bb8b-38d1fe7810c6",
   "metadata": {},
   "source": [
    "## Recursive Sum of Digits Function\n",
    "\n",
    "This function calculates the sum of the digits of a number using recursion. For example, if you input 1234, it will return 1 + 2 + 3 + 4 = 10."
   ]
  },
  {
   "cell_type": "code",
   "execution_count": 39,
   "id": "e7c044ae-b15d-4bc4-9250-b002cfdb1a03",
   "metadata": {},
   "outputs": [
    {
     "name": "stdout",
     "output_type": "stream",
     "text": [
      "10\n"
     ]
    }
   ],
   "source": [
    "# Recursive sum of digits\n",
    "def sum_of_digits(n):\n",
    "    # Base case: when n is 0, the sum is 0\n",
    "    if n == 0:\n",
    "        return 0\n",
    "    else:\n",
    "        # Recursive case: extract the last digit and sum with the result of sum_of_digits on the rest\n",
    "        return n % 10 + sum_of_digits(n // 10)\n",
    "\n",
    "# Test the function\n",
    "print(sum_of_digits(1234))  # Output should be 10\n",
    "\n"
   ]
  },
  {
   "cell_type": "markdown",
   "id": "19195813-07ce-454b-bc07-67e11ef1c24c",
   "metadata": {},
   "source": [
    "## Tail Recursion\n",
    "\n",
    "Tail recursion is a special form of recursion where the recursive call is the last operation in the function. Some \n",
    "languages can optimize tail-recursive functions to avoid using additional stack frames. However, Python does not \n",
    "perform tail-call optimization, so tail recursion doesn't offer performance benefits in Python.\n"
   ]
  },
  {
   "cell_type": "markdown",
   "id": "767e26ab-f7ff-4b94-9ca3-e2aadd634e3e",
   "metadata": {},
   "source": [
    "## Pitfalls and Efficiency\n",
    "\n",
    "- **Stack Overflow**: In Python, if recursion goes too deep, you may run into a `RecursionError` due to the limited stack size.\n",
    "- **Efficiency**: The Fibonacci function we used is inefficient due to repeated calculations. Memoization or dynamic programming \n",
    "  could be used to optimize it.\n"
   ]
  },
  {
   "cell_type": "markdown",
   "id": "a2237c8d-1e15-4339-8b1b-02780ea8e738",
   "metadata": {},
   "source": [
    "## Conclusion\n",
    "\n",
    "Recursion is a powerful tool that allows us to solve complex problems by breaking them down into smaller, simpler problems. \n",
    "It's crucial to define a base case to stop the recursion and avoid infinite loops. While recursion can make the code more \n",
    "elegant, it may also be less efficient for certain problems (like Fibonacci) due to repeated calculations.\n"
   ]
  },
  {
   "cell_type": "markdown",
   "id": "6f25c8d6-e4dd-4716-935a-b2e7f7f4576b",
   "metadata": {},
   "source": [
    "## Further Reading\n",
    "\n",
    "- [Python Recursion Documentation](https://docs.python.org/3/tutorial/controlflow.html#defining-functions)\n",
    "- [Recursion in Computer Science (Wikipedia)](https://en.wikipedia.org/wiki/Recursion_(computer_science))\n",
    "- [Khan, I. (2024, February 14). The Science of Recursive Functions for Dummies - codeburst. Medium.](https://codeburst.io/the-science-of-recursive-functions-fb1bb2af61a)\r\n",
    "\n"
   ]
  }
 ],
 "metadata": {
  "kernelspec": {
   "display_name": "Python 3 (ipykernel)",
   "language": "python",
   "name": "python3"
  },
  "language_info": {
   "codemirror_mode": {
    "name": "ipython",
    "version": 3
   },
   "file_extension": ".py",
   "mimetype": "text/x-python",
   "name": "python",
   "nbconvert_exporter": "python",
   "pygments_lexer": "ipython3",
   "version": "3.12.4"
  }
 },
 "nbformat": 4,
 "nbformat_minor": 5
}
